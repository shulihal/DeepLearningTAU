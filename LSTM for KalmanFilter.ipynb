{
 "cells": [
  {
   "attachments": {},
   "cell_type": "markdown",
   "id": "a7f9ba2c-44e0-4217-a7a2-0f4bf381bb62",
   "metadata": {},
   "source": [
    "# Generating data using Kalman filter and predicting with an LSTM.\n",
    "\n",
    "A Kalman filter is a model for which the following holds: \\\n",
    "$ 2X_{k+1} = AX_k + ϵ_{1,k+1} $ \\\n",
    "Where: \n",
    "- $ X_k $ is the unobserved state vector\n",
    "- $ Y_k $ is the observation\n",
    "- A is the state dynamic model\n",
    "- B is the observation model. \n",
    "- The variable $ ϵ_1 $ is called the process noise and $ ϵ_2 $ is called observations noise, where $ ∀ \\epsilon_{1,i} ∼ N(0, σ_{12}) $ and $ ϵ_{2,i} ∼ N(0, σ_{22}) $.\n"
   ]
  },
  {
   "cell_type": "code",
   "execution_count": 1,
   "id": "9df8163d-dba6-4864-91d5-fe1a86877345",
   "metadata": {},
   "outputs": [],
   "source": [
    "import numpy as np\n",
    "import pandas as pd\n",
    "np.random.seed(123)\n",
    "\n",
    "A = 0.1*np.array([[np.sqrt(99), -1], [1, np.sqrt(99)]])\n",
    "B = 0.5*np.array([[np.sqrt(2), -2], [np.sqrt(2), np.sqrt(2)]])\n",
    "\n",
    "sigma1 = .01\n",
    "sigma2 = .2\n",
    "\n",
    "X_0 = np.array([[1,0]]).T\n",
    "Y_0 = np.dot(B, X_0) + np.random.normal(loc=0, scale=sigma2, size=2).reshape(2,1)"
   ]
  },
  {
   "cell_type": "code",
   "execution_count": 2,
   "id": "ebd0d057-bd7c-440a-b829-79b7ad841889",
   "metadata": {},
   "outputs": [],
   "source": [
    "process_length = 2000\n",
    "\n",
    "X = [X_0]\n",
    "Y = [Y_0]\n",
    "\n",
    "for _ in range(process_length):\n",
    "    X_k = X[-1]\n",
    "    X_k_next = np.dot(A, X_k) + np.random.normal(loc=0, scale=sigma1, size=2).reshape(2,1)\n",
    "    Y_k_next = np.dot(B, X_k_next) + np.random.normal(loc=0, scale=sigma2, size=2).reshape(2,1)\n",
    "    X.append(X_k_next)    \n",
    "    Y.append(Y_k_next)\n",
    "\n",
    "def sliding_windows(data, seq_length):\n",
    "    x = []\n",
    "    y = []\n",
    "\n",
    "    for i in range(len(data)-seq_length-1):\n",
    "        _x = data[i:(i+seq_length)]\n",
    "        _y = data[i+seq_length]\n",
    "        x.append(_x)\n",
    "        y.append(_y)\n",
    "\n",
    "    return np.array(x),np.array(y)"
   ]
  },
  {
   "cell_type": "code",
   "execution_count": 3,
   "id": "4db40d6c-6957-47df-a00c-c37af2d03919",
   "metadata": {},
   "outputs": [],
   "source": [
    "import torch\n",
    "import torch.nn as nn\n",
    "from torch.autograd import Variable\n",
    "import torch.utils.data as data_utils\n",
    "torch.manual_seed(123)\n",
    "\n",
    "# Device configuration\n",
    "device = torch.device('cuda' if torch.cuda.is_available() else 'cpu')\n",
    "\n",
    "# Hyper-parameters\n",
    "sequence_length = 4\n",
    "input_size = 2\n",
    "hidden_size = 4\n",
    "num_layers = 1\n",
    "num_classes = 2\n",
    "batch_size = 1\n",
    "num_epochs = 15\n",
    "learning_rate = 0.001\n",
    "\n",
    "Y_seq, Y_target = sliding_windows(Y, sequence_length)\n",
    "Y_seq = Variable(torch.Tensor(Y_seq.reshape(-1, sequence_length, 1, 2)))\n",
    "Y_target = Variable(torch.Tensor(Y_target.reshape(-1, 1, 2)))\n",
    "train_samples = 1000 - sequence_length\n",
    "\n",
    "train_tensor = data_utils.TensorDataset(Y_seq[:train_samples], Y_target[:train_samples]) \n",
    "train_loader = data_utils.DataLoader(dataset = train_tensor, batch_size = batch_size)\n",
    "\n",
    "test_tensor = data_utils.TensorDataset(Y_seq[(train_samples+1):], Y_target[(train_samples+1):]) \n",
    "test_loader = data_utils.DataLoader(dataset = test_tensor, batch_size = batch_size)\n",
    "\n",
    "# Recurrent neural network (many-to-one)\n",
    "class RNN(nn.Module):\n",
    "    def __init__(self, input_size, hidden_size, num_layers, num_classes):\n",
    "        super(RNN, self).__init__()\n",
    "        self.hidden_size = hidden_size\n",
    "        self.num_layers = num_layers\n",
    "        self.lstm = nn.LSTM(input_size, hidden_size, num_layers, batch_first=True)\n",
    "        self.fc = nn.Linear(hidden_size, num_classes)\n",
    "        self.last_hidden = None\n",
    "    \n",
    "    def forward(self, x):\n",
    "        # Set initial hidden and cell states \n",
    "        h0 = torch.zeros(self.num_layers, x.size(0), self.hidden_size).to(device) \n",
    "        c0 = torch.zeros(self.num_layers, x.size(0), self.hidden_size).to(device)\n",
    "        \n",
    "        # Forward propagate LSTM\n",
    "        out, hidden = self.lstm(x, (h0, c0))  # out: tensor of shape (batch_size, seq_length, hidden_size)\n",
    "        self.last_hidden = hidden\n",
    "        # Decode the hidden state of the last time step\n",
    "        out = self.fc(out[:, -1, :])\n",
    "                \n",
    "        return out"
   ]
  },
  {
   "cell_type": "code",
   "execution_count": 4,
   "id": "015312be-cd8b-425a-adf6-fcd4ca2a21b4",
   "metadata": {},
   "outputs": [],
   "source": [
    "def fit_lstm(model, train_loader, test_loader):\n",
    "    # Loss and optimizer\n",
    "    criterion = nn.MSELoss()\n",
    "    optimizer = torch.optim.Adam(model.parameters(), lr=learning_rate)\n",
    "    total_step = len(train_loader)\n",
    "    best_model = {\n",
    "        'epoch': -1,\n",
    "        'model_state_dict': None,\n",
    "        'accuracy': 0,\n",
    "        'loss': 1,\n",
    "    }\n",
    "    # Train the model\n",
    "    for epoch in range(num_epochs):\n",
    "        for i, (Y_seq_i, Y_target_i) in enumerate(train_loader):\n",
    "            model.train()\n",
    "\n",
    "            Y_seq_i = Y_seq_i.reshape(-1, sequence_length, input_size).to(device)\n",
    "            Y_target_i = Y_target_i.reshape(-1, num_classes).to(device)\n",
    "            # Forward pass\n",
    "            outputs = model(Y_seq_i)\n",
    "            loss = criterion(outputs, Y_target_i)\n",
    "\n",
    "            # Backward and optimize\n",
    "            optimizer.zero_grad()\n",
    "            loss.backward()\n",
    "            optimizer.step()\n",
    "\n",
    "        model.eval()\n",
    "        test_criterion = torch.nn.MSELoss()\n",
    "        test_loss = 0\n",
    "        for i, (Y_seq_i, Y_target_i) in enumerate(test_loader):\n",
    "            Y_seq_i = Y_seq_i.reshape(-1, sequence_length, input_size).to(device)\n",
    "            Y_target_i = Y_target_i.reshape(-1, num_classes).to(device)\n",
    "            test_outputs = model(Y_seq_i)\n",
    "            test_loss = test_criterion(test_outputs, Y_target_i)\n",
    "\n",
    "        test_accuracy = 1 - test_loss.item()\n",
    "        if best_model['accuracy'] < test_accuracy:\n",
    "            best_model = {\n",
    "                'epoch': epoch,\n",
    "                'model_state_dict': model.state_dict(),\n",
    "                'accuracy': test_accuracy,\n",
    "                'loss': loss.item(),\n",
    "            }\n",
    "        print(\"Epoch: %d, loss: %1.5f, test accuracy: %1.5f\" % (epoch, loss.item(), test_accuracy))\n",
    "    print(\"=\"*20)\n",
    "    print(f\"Best model using the validation set:\\n\"\n",
    "          f\" epoch:         [{best_model['epoch']}]\\n\"\n",
    "          f\" loss:          [{best_model['loss']}]\\n\"\n",
    "          f\" test accuracy: [{best_model['accuracy']}]\\n\")\n",
    "    print(\"=\"*20)\n",
    "\n",
    "    model = RNN(input_size, hidden_size, num_layers, num_classes).to(device)\n",
    "    model.load_state_dict(best_model['model_state_dict'])\n",
    "    \n",
    "    return model"
   ]
  },
  {
   "cell_type": "code",
   "execution_count": 5,
   "id": "fc3f6dc8-7e23-4bb7-8d78-5ecb5c04c040",
   "metadata": {},
   "outputs": [
    {
     "name": "stdout",
     "output_type": "stream",
     "text": [
      "Epoch: 0, loss: 0.08312, test accuracy: 0.87508\n",
      "Epoch: 1, loss: 0.01671, test accuracy: 0.92062\n",
      "Epoch: 2, loss: 0.01890, test accuracy: 0.92466\n",
      "Epoch: 3, loss: 0.02164, test accuracy: 0.92762\n",
      "Epoch: 4, loss: 0.02334, test accuracy: 0.92968\n",
      "Epoch: 5, loss: 0.02432, test accuracy: 0.93104\n",
      "Epoch: 6, loss: 0.02489, test accuracy: 0.93196\n",
      "Epoch: 7, loss: 0.02524, test accuracy: 0.93261\n",
      "Epoch: 8, loss: 0.02545, test accuracy: 0.93309\n",
      "Epoch: 9, loss: 0.02558, test accuracy: 0.93347\n",
      "Epoch: 10, loss: 0.02567, test accuracy: 0.93378\n",
      "Epoch: 11, loss: 0.02574, test accuracy: 0.93403\n",
      "Epoch: 12, loss: 0.02578, test accuracy: 0.93424\n",
      "Epoch: 13, loss: 0.02581, test accuracy: 0.93442\n",
      "Epoch: 14, loss: 0.02584, test accuracy: 0.93458\n",
      "====================\n",
      "Best model using the validation set:\n",
      " epoch:         [14]\n",
      " loss:          [0.02583935856819153]\n",
      " test accuracy: [0.9345771595835686]\n",
      "\n",
      "====================\n"
     ]
    }
   ],
   "source": [
    "model = RNN(input_size, hidden_size, num_layers, num_classes).to(device)\n",
    "model = fit_lstm(model, train_loader, test_loader)"
   ]
  },
  {
   "attachments": {},
   "cell_type": "markdown",
   "id": "75a62cdf-dfd1-4868-89d0-55593f7118b4",
   "metadata": {},
   "source": [
    "## Predict the next observation (Y_1001)"
   ]
  },
  {
   "cell_type": "code",
   "execution_count": 6,
   "id": "2e7ba50a-0d92-4568-94ac-90d5cf69d360",
   "metadata": {},
   "outputs": [],
   "source": [
    "model.eval()\n",
    "Y_seq_1001, Y_target_1001 = iter(test_loader).next()\n",
    "\n",
    "Y_seq_1001 = Y_seq_1001.reshape(-1, sequence_length, input_size).to(device)\n",
    "Y_target_1001 = Y_target_1001.reshape(-1, num_classes).to(device)\n",
    "    \n",
    "Y1001_hat = model(Y_seq_1001)"
   ]
  },
  {
   "cell_type": "code",
   "execution_count": 7,
   "id": "516d9b2b-6063-4509-8d90-75639a70364d",
   "metadata": {},
   "outputs": [
    {
     "name": "stdout",
     "output_type": "stream",
     "text": [
      "predicted Y_1001: \n",
      "\n",
      "[[1.0176398 ]\n",
      " [0.46983743]]\n",
      "actual Y_1001: \n",
      "\n",
      "[[1.0863123 ]\n",
      " [0.37219563]]\n"
     ]
    }
   ],
   "source": [
    "print(f\"predicted Y_1001: \\n\\n{Y1001_hat.data.numpy().reshape(2,1)}\\n\"\n",
    "      f\"actual Y_1001: \\n\\n{Y_target_1001.data.numpy().reshape(2,1)}\")"
   ]
  },
  {
   "attachments": {},
   "cell_type": "markdown",
   "id": "6b25b276-a699-4e1a-8e99-de2497173f64",
   "metadata": {},
   "source": [
    "## Infer the value of the hidden X_1001\n",
    "- Fitting another lstm for X|Y\n",
    "- Training using 900 X,Y pairs\n",
    "- Testing using next 100 pairs"
   ]
  },
  {
   "cell_type": "code",
   "execution_count": 8,
   "id": "bdc2acc2-445c-42cc-94f3-0aae630c0a77",
   "metadata": {},
   "outputs": [],
   "source": [
    "Y_seq, _ = sliding_windows(Y, sequence_length)\n",
    "_ , X_target = sliding_windows(X, sequence_length)\n",
    "\n",
    "Y_seq = Variable(torch.Tensor(Y_seq.reshape(-1, sequence_length, 1, 2)))\n",
    "X_target = Variable(torch.Tensor(X_target.reshape(-1, 1, 2)))\n",
    "train_samples = 900 - sequence_length\n",
    "\n",
    "train_tensor = data_utils.TensorDataset(Y_seq[:train_samples], X_target[:train_samples]) \n",
    "train_loader = data_utils.DataLoader(dataset = train_tensor, batch_size = batch_size)\n",
    "\n",
    "test_tensor = data_utils.TensorDataset(Y_seq[(train_samples+1):1000], X_target[(train_samples+1):1000]) \n",
    "test_loader = data_utils.DataLoader(dataset = test_tensor, batch_size = batch_size)"
   ]
  },
  {
   "cell_type": "code",
   "execution_count": 9,
   "id": "1b4fd9ff-4944-4c2f-b7e4-8245a8964102",
   "metadata": {},
   "outputs": [
    {
     "name": "stdout",
     "output_type": "stream",
     "text": [
      "Epoch: 0, loss: 0.06843, test accuracy: 0.96136\n",
      "Epoch: 1, loss: 0.03089, test accuracy: 0.99167\n",
      "Epoch: 2, loss: 0.02117, test accuracy: 0.99235\n",
      "Epoch: 3, loss: 0.01710, test accuracy: 0.99399\n",
      "Epoch: 4, loss: 0.01475, test accuracy: 0.99551\n",
      "Epoch: 5, loss: 0.01327, test accuracy: 0.99652\n",
      "Epoch: 6, loss: 0.01227, test accuracy: 0.99711\n",
      "Epoch: 7, loss: 0.01158, test accuracy: 0.99746\n",
      "Epoch: 8, loss: 0.01108, test accuracy: 0.99768\n",
      "Epoch: 9, loss: 0.01072, test accuracy: 0.99784\n",
      "Epoch: 10, loss: 0.01046, test accuracy: 0.99797\n",
      "Epoch: 11, loss: 0.01027, test accuracy: 0.99808\n",
      "Epoch: 12, loss: 0.01015, test accuracy: 0.99819\n",
      "Epoch: 13, loss: 0.01006, test accuracy: 0.99829\n",
      "Epoch: 14, loss: 0.01001, test accuracy: 0.99840\n",
      "====================\n",
      "Best model using the validation set:\n",
      " epoch:         [14]\n",
      " loss:          [0.010008081793785095]\n",
      " test accuracy: [0.9983952012844384]\n",
      "\n",
      "====================\n"
     ]
    }
   ],
   "source": [
    "model = RNN(input_size, hidden_size, num_layers, num_classes).to(device)\n",
    "model = fit_lstm(model, train_loader, test_loader)"
   ]
  },
  {
   "cell_type": "code",
   "execution_count": 10,
   "id": "d2128469-d76d-4fe1-bc5d-22cd11735929",
   "metadata": {},
   "outputs": [],
   "source": [
    "model.eval()\n",
    "\n",
    "Y_seq_1001 = Y_seq[1001].reshape(-1, sequence_length, input_size).to(device)\n",
    "X_target_1001 = X_target[1001].reshape(-1, num_classes).to(device)\n",
    "    \n",
    "X1001_hat = model(Y_seq_1001)"
   ]
  },
  {
   "cell_type": "code",
   "execution_count": 11,
   "id": "f7127af0-7a32-412f-be28-5a4b8e6da4cb",
   "metadata": {},
   "outputs": [
    {
     "name": "stdout",
     "output_type": "stream",
     "text": [
      "predicted X_1001: \n",
      "\n",
      "[[ 1.0967779 ]\n",
      " [-0.04586291]]\n",
      "actual X_1001: \n",
      "\n",
      "[[ 1.1499354 ]\n",
      " [-0.07246078]]\n"
     ]
    }
   ],
   "source": [
    "print(f\"predicted X_1001: \\n\\n{X1001_hat.data.numpy().reshape(2,1)}\\n\"\n",
    "      f\"actual X_1001: \\n\\n{X_target_1001.data.numpy().reshape(2,1)}\")"
   ]
  }
 ],
 "metadata": {
  "kernelspec": {
   "display_name": "Python 3",
   "language": "python",
   "name": "python3"
  },
  "language_info": {
   "codemirror_mode": {
    "name": "ipython",
    "version": 3
   },
   "file_extension": ".py",
   "mimetype": "text/x-python",
   "name": "python",
   "nbconvert_exporter": "python",
   "pygments_lexer": "ipython3",
   "version": "3.8.2"
  }
 },
 "nbformat": 4,
 "nbformat_minor": 5
}
